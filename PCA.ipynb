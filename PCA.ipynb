{
 "cells": [
  {
   "cell_type": "code",
   "execution_count": 28,
   "metadata": {},
   "outputs": [
    {
     "name": "stdout",
     "output_type": "stream",
     "text": [
      "Enter the number of blocks:5\n",
      "\n",
      " Force Matrix:\n",
      "[[ 13.58821334]\n",
      " [  5.69462109]\n",
      " [ 11.02336997]\n",
      " [-14.89258161]\n",
      " [ -1.57920256]]\n",
      "\n",
      "Stiffness Matrix:\n",
      "[[ 48.47515743 -23.5542345    0.           0.           0.        ]\n",
      " [-23.5542345   55.71367094 -32.15943644   0.           0.        ]\n",
      " [  0.         -32.15943644  61.11174964 -28.95231319   0.        ]\n",
      " [  0.           0.         -28.95231319  63.22388247 -34.27156928]\n",
      " [  0.           0.           0.         -34.27156928  34.27156928]]\n",
      "\n",
      "Displacement of blocks:\n",
      "[[ 0.55513274]\n",
      " [ 0.56558551]\n",
      " [ 0.39616667]\n",
      " [-0.17276141]\n",
      " [-0.2188405 ]]\n"
     ]
    }
   ],
   "source": [
    "import numpy as np\n",
    "\n",
    "#input parameter\n",
    "n=int(input(\"Enter the number of blocks:\"))\n",
    "\n",
    "# data generation from the specified normal distribution and matrix formation\n",
    "\n",
    "#for force at each block\n",
    "mean1 = 0\n",
    "\n",
    "std_dev1 = 10\n",
    "F = np.random.normal(mean1, std_dev1, n)\n",
    "force_matrix = F.reshape(-1, 1)\n",
    "print(\"\\n Force Matrix:\")         \n",
    "print(force_matrix)         #required force matrix\n",
    "\n",
    "\n",
    "#for stiffness of spring\n",
    "mean2 = 25 #last 2 digit of roll no- 2021meb1325\n",
    "std_dev2 = 10\n",
    "K= np.random.normal(mean2, std_dev2, n)\n",
    "\n",
    "def stiffness_matrix(K):\n",
    "    K_ = np.zeros((n, n))\n",
    "    \n",
    "    # Assign spring constants to the diagonal and off-diagonal elements\n",
    "    for i in range(1, n+1): \n",
    "        for j in range(1, n+1): \n",
    "            # For diagonal elements\n",
    "            if i == j:\n",
    "                if i == n:  \n",
    "                    # for the last element \n",
    "                    K_[i-1, j-1] = K[i-1]  \n",
    "                else:\n",
    "                    K_[i-1, j-1] = K[i-1] + K[i]\n",
    "            elif abs(i - j) == 1:\n",
    "                # Off-diagonal elements\n",
    "                K_[i-1, j-1] = -K[max(i-1, j-1)]  \n",
    "    \n",
    "    return K_\n",
    "                \n",
    "Stiffness_Matrix=stiffness_matrix(K)\n",
    "print(\"\\nStiffness Matrix:\")\n",
    "print(Stiffness_Matrix)         #required stiffness matrix\n",
    "\n",
    "#the governing equation of spring mass system is [m]¨x + [c]˙x + [k]x = f\n",
    "#the system consists of massless blocks so there is no mass matrix\n",
    "#also there is no damping involved so no c term\n",
    "\n",
    "# the final equation for the given scenario: [k]x = f\n",
    "#displacement of the spring block system\n",
    "Stiffness_Matrix_inverse = np.linalg.inv(Stiffness_Matrix)\n",
    "x=np.dot(Stiffness_Matrix_inverse,force_matrix)\n",
    "y=force_matrix\n",
    "print(\"\\nDisplacement of blocks:\")\n",
    "print(x)\n",
    "\n",
    "\n"
   ]
  },
  {
   "cell_type": "code",
   "execution_count": 29,
   "metadata": {},
   "outputs": [
    {
     "name": "stdout",
     "output_type": "stream",
     "text": [
      "\n",
      "Displacement of blocks(with noise):\n",
      "[[ 0.5791735 ]\n",
      " [ 0.53558659]\n",
      " [ 0.40171227]\n",
      " [-0.16973276]\n",
      " [-0.23023057]]\n",
      "\n",
      "Input data with displacement and force values:\n",
      "[[  0.5791735   13.58821334]\n",
      " [  0.53558659   5.69462109]\n",
      " [  0.40171227  11.02336997]\n",
      " [ -0.16973276 -14.89258161]\n",
      " [ -0.23023057  -1.57920256]]\n"
     ]
    }
   ],
   "source": [
    "#adding noise to displacement if asked to\n",
    "noise_range = 0.08 # ±8% range\n",
    "noise = np.random.uniform(low=-noise_range * x, high=noise_range * x) #generating noise between the required range\n",
    "noisy_x = x + noise #adding it to displacement\n",
    "print(\"\\nDisplacement of blocks(with noise):\")\n",
    "print(noisy_x)\n",
    "\n",
    "data = np.column_stack((noisy_x, y))\n",
    "print(\"\\nInput data with displacement and force values:\")\n",
    "print(data)"
   ]
  },
  {
   "cell_type": "code",
   "execution_count": 26,
   "metadata": {},
   "outputs": [
    {
     "data": {
      "text/plain": [
       "'\\n#for part 4 and 5\\nStiffness_Matrix_inverse = np.linalg.inv(Stiffness_Matrix)\\n#force along the first mode\\nforce1=np.array([-0.21201089, -0.52059953,  0.71596161,  0.37197045,  0.18183638])\\n#force along vector perpendicular to above vector\\nforce2=np.array([-0.9772673,   0.11294021, -0.15532256, -0.08069623, -0.03944805])\\nx=np.dot(Stiffness_Matrix_inverse,force)\\ny=force2\\nprint(\"\\nData- Displacement and Force:\")\\ndata = np.column_stack((x, force2))\\nprint(data)\\n'"
      ]
     },
     "execution_count": 26,
     "metadata": {},
     "output_type": "execute_result"
    }
   ],
   "source": [
    "'''\n",
    "#for part 4 and 5\n",
    "Stiffness_Matrix_inverse = np.linalg.inv(Stiffness_Matrix)\n",
    "#force along the first mode\n",
    "force1=np.array([-0.21201089, -0.52059953,  0.71596161,  0.37197045,  0.18183638])\n",
    "#force along vector perpendicular to above vector\n",
    "force2=np.array([-0.9772673,   0.11294021, -0.15532256, -0.08069623, -0.03944805])\n",
    "x=np.dot(Stiffness_Matrix_inverse,force)\n",
    "y=force2\n",
    "print(\"\\nData- Displacement and Force:\")\n",
    "data = np.column_stack((x, force2))\n",
    "print(data)\n",
    "'''"
   ]
  },
  {
   "cell_type": "code",
   "execution_count": 30,
   "metadata": {},
   "outputs": [
    {
     "name": "stdout",
     "output_type": "stream",
     "text": [
      "\n",
      "Covariance Matrix:\n",
      "[[ 84.61755886  33.55704271  69.08878413 -95.7650637   -8.77441517]\n",
      " [ 33.55704271  13.3078185   27.39874928 -37.97784261  -3.47969652]\n",
      " [ 69.08878413  27.39874928  56.40980615 -78.19053045  -7.16415935]\n",
      " [-95.7650637  -37.97784261 -78.19053045 108.38113919   9.93035534]\n",
      " [ -8.77441517  -3.47969652  -7.16415935   9.93035534   0.90986271]]\n",
      "\n",
      "Eigenvalues: [ 2.63626185e+02  2.84217094e-14  2.69897294e-15  1.05205952e-16\n",
      " -3.79814836e-15]\n",
      "\n",
      "Eigenvectors: [[-0.56654704 -0.8240294   0.10568704 -0.01160271  0.04421297]\n",
      " [-0.22467728  0.15447295  0.56664948  0.05092918 -0.07196524]\n",
      " [-0.46257593  0.31803601 -0.76884594 -0.13036898  0.80160038]\n",
      " [ 0.64118386 -0.44083478 -0.25230233 -0.1757353   0.58259735]\n",
      " [ 0.05874808 -0.04039122 -0.11383353  0.97436781  0.1043234 ]]\n",
      "Reduced data using PCA:\n",
      "[[ -0.75664111 -23.71861774]\n",
      " [ -0.18263999  -0.18263999]\n",
      " [  0.12487807   0.12487807]]\n"
     ]
    }
   ],
   "source": [
    "#PCA approach\n",
    "r = 3 #the number of dimensions to reduce to ie r (r<n)\n",
    "\n",
    "'''\n",
    "def covariance_matrix(data):\n",
    "    # Standardizing the data, by subtracting the mean value for each column of the data array  \n",
    "    centered_data = data - np.mean(data, axis=0)\n",
    "    #computing the covariance matrix\n",
    "    covariance_matrix = np.dot(np.transpose(centered_data), centered_data) / (len(data) - 1)\n",
    "    return covariance_matrix\n",
    "\n",
    "print(\"\\nCovariance Matrix:\")\n",
    "print(covariance_matrix(data))\n",
    "'''\n",
    "\n",
    "covariance=np.cov(data)\n",
    "\n",
    "print(\"\\nCovariance Matrix:\")\n",
    "print(covariance)\n",
    "\n",
    "# Compute eigenvalues and eigenvectors\n",
    "#eigenvectors of the covariance matrix of the data\n",
    "eigenvalues, eigenvectors = np.linalg.eig(covariance)\n",
    "\n",
    "# Sort eigenvalues and eigenvectors\n",
    "sorted_indices = np.argsort(eigenvalues)[::-1]\n",
    "sorted_eigenvalues = eigenvalues[sorted_indices]\n",
    "sorted_eigenvectors = eigenvectors[:, sorted_indices]\n",
    "\n",
    "# Selecting the top r eigenvectors corresponding to the largest eigenvalues\n",
    "top_eigenvectors = sorted_eigenvectors[:, :r]\n",
    "\n",
    "# Print eigenvalues and eigenvectors\n",
    "print(\"\\nEigenvalues:\", sorted_eigenvalues)\n",
    "print(\"\\nEigenvectors:\",sorted_eigenvectors)\n",
    "\n",
    "\n",
    "# Performing dimensionality reduction\n",
    "reduced_data = np.dot( np.transpose(top_eigenvectors),data)\n",
    "\n",
    "print(\"Reduced data using PCA:\")\n",
    "print(reduced_data)"
   ]
  },
  {
   "cell_type": "code",
   "execution_count": 31,
   "metadata": {},
   "outputs": [
    {
     "data": {
      "image/png": "[encoded data removed]",
      "text/plain": [
       "<Figure size 432x288 with 1 Axes>"
      ]
     },
     "metadata": {
      "needs_background": "light"
     },
     "output_type": "display_data"
    }
   ],
   "source": [
    "import matplotlib.pyplot as plt\n",
    "# PCA approach\n",
    "r = 5  # Maximum r can't be more than the number of observations or 5, whichever is smaller\n",
    "mse = []  # List to store Mean Squared Error (MSE)\n",
    "\n",
    "for a in range(1, r+1):\n",
    "    # Compute covariance matrix\n",
    "    covariance = np.cov(data)\n",
    "    eigenvalues, eigenvectors = np.linalg.eig(covariance)\n",
    "\n",
    "    # Sorting eigenvalues\n",
    "    sorted_indices = np.argsort(eigenvalues)[::-1]\n",
    "    sorted_eigenvalues = eigenvalues[sorted_indices]\n",
    "    sorted_eigenvectors = eigenvectors[:, sorted_indices]\n",
    "\n",
    "    # Selecting the top r eigenvectors corresponding to the largest eigenvalues\n",
    "    top_eigenvectors = sorted_eigenvectors[:, :a]\n",
    "\n",
    "    # Performing dimensionality reduction\n",
    "    reduced_data = np.dot( np.transpose(top_eigenvectors),data)\n",
    "    reconstructed_data = np.dot(top_eigenvectors,reduced_data)\n",
    "    mse.append(np.mean((data - reconstructed_data) ** 2))\n",
    "\n",
    "# Plot MSE with respect to r\n",
    "plt.plot(range(1, r+1), mse, marker='o')\n",
    "\n",
    "plt.title('Mean Square Error (MSE) vs. r')\n",
    "plt.xlabel('Number of dimensions (r)')\n",
    "plt.ylabel('Mean Square Error (MSE)')\n",
    "plt.grid(True)\n",
    "plt.show()"
   ]
  },
  {
   "cell_type": "code",
   "execution_count": 32,
   "metadata": {},
   "outputs": [
    {
     "name": "stdout",
     "output_type": "stream",
     "text": [
      "\n",
      "Natural frequencies:\n",
      "[ 1.45840302  4.46063605  7.04587328  8.99063845 10.50218579]\n",
      "\n",
      "Mode shapes:\n",
      "[[-0.1807386  -0.48160882  0.72685585  0.42316559  0.1673259 ]\n",
      " [-0.35564358 -0.58432639 -0.03607929 -0.58130204 -0.43916574]\n",
      " [-0.46022627 -0.29803193 -0.53917334  0.14408679  0.62281608]\n",
      " [-0.54258401  0.22479647 -0.17347965  0.54755483 -0.57022598]\n",
      " [-0.5784856   0.53596561  0.38675029 -0.40304036  0.25705636]]\n",
      "\n",
      "Modal Participation Factors:\n",
      "[[0.03266644 0.23194706 0.52831942 0.17906912 0.02799796]\n",
      " [0.12648235 0.34143733 0.00130172 0.33791206 0.19286654]\n",
      " [0.21180822 0.08882303 0.29070789 0.020761   0.38789987]\n",
      " [0.2943974  0.05053345 0.03009519 0.29981629 0.32515766]\n",
      " [0.33464558 0.28725913 0.14957579 0.16244153 0.06607797]]\n"
     ]
    }
   ],
   "source": [
    "# Modal analysis\n",
    "\n",
    "def modal_analysis(displacement, force):\n",
    "    n = displacement.shape[0]\n",
    "    \n",
    "    K = Stiffness_Matrix\n",
    "    \n",
    "    eigenvalues, eigenvectors = np.linalg.eig(K)\n",
    "    \n",
    "    # Sorting eigenvalues and eigenvectors\n",
    "    i = eigenvalues.argsort()\n",
    "    \n",
    "    ##natural frequencies obtained from modal analysis represent the eigenvalues of the stiffness matrix\n",
    "    eigenvalues = eigenvalues[i]\n",
    "    \n",
    "    #Mode shapes are represented as eigenvectors of the system's stiffness matrix.\n",
    "    eigenvectors = eigenvectors[:, i]\n",
    "        \n",
    "    # Modal participation factor\n",
    "    # Modal Participation Factor provide information about how much each degree of freedom participates in each mode of vibration.\n",
    "    MPF = np.abs(eigenvectors)**2 / np.sum(np.abs(eigenvectors)**2, axis=0)\n",
    "    \n",
    "    return eigenvalues, eigenvectors, MPF\n",
    "\n",
    "eigenvalues, eigenvectors, MPF = modal_analysis(noisy_x.flatten(), force_matrix.flatten())\n",
    "\n",
    "print(\"\\nNatural frequencies:\")\n",
    "print(np.sqrt(eigenvalues))\n",
    "\n",
    "print(\"\\nMode shapes:\")\n",
    "print(eigenvectors)\n",
    "\n",
    "print(\"\\nModal Participation Factors:\")\n",
    "print(MPF)"
   ]
  }
 ],
 "metadata": {
  "kernelspec": {
   "display_name": "Python 3",
   "language": "python",
   "name": "python3"
  },
  "language_info": {
   "codemirror_mode": {
    "name": "ipython",
    "version": 3
   },
   "file_extension": ".py",
   "mimetype": "text/x-python",
   "name": "python",
   "nbconvert_exporter": "python",
   "pygments_lexer": "ipython3",
   "version": "3.7.3"
  }
 },
 "nbformat": 4,
 "nbformat_minor": 2
}
